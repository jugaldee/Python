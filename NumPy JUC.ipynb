{
 "cells": [
  {
   "cell_type": "code",
   "execution_count": 1,
   "metadata": {},
   "outputs": [],
   "source": [
    "import numpy as np"
   ]
  },
  {
   "cell_type": "code",
   "execution_count": 2,
   "metadata": {},
   "outputs": [],
   "source": [
    "list_example = [3, 41, 4, 6, 43]"
   ]
  },
  {
   "cell_type": "code",
   "execution_count": 3,
   "metadata": {},
   "outputs": [],
   "source": [
    "array_example = np.array(list_example)"
   ]
  },
  {
   "cell_type": "code",
   "execution_count": 4,
   "metadata": {},
   "outputs": [
    {
     "name": "stdout",
     "output_type": "stream",
     "text": [
      "[ 3 41  4  6 43]\n"
     ]
    }
   ],
   "source": [
    "print(array_example)"
   ]
  },
  {
   "cell_type": "code",
   "execution_count": 5,
   "metadata": {},
   "outputs": [],
   "source": [
    "array_example += 5"
   ]
  },
  {
   "cell_type": "code",
   "execution_count": 6,
   "metadata": {},
   "outputs": [
    {
     "name": "stdout",
     "output_type": "stream",
     "text": [
      "[ 8 46  9 11 48]\n"
     ]
    }
   ],
   "source": [
    "print(array_example)"
   ]
  },
  {
   "cell_type": "code",
   "execution_count": 7,
   "metadata": {},
   "outputs": [
    {
     "name": "stdout",
     "output_type": "stream",
     "text": [
      "[5 5 5 5 5]\n"
     ]
    }
   ],
   "source": [
    "array_example[:] = 5\n",
    "print(array_example)"
   ]
  },
  {
   "cell_type": "code",
   "execution_count": 8,
   "metadata": {},
   "outputs": [
    {
     "name": "stdout",
     "output_type": "stream",
     "text": [
      "[ 3 41  4  6 43]\n"
     ]
    }
   ],
   "source": [
    "array_example = np.array(list_example)\n",
    "print(array_example)"
   ]
  },
  {
   "cell_type": "code",
   "execution_count": 9,
   "metadata": {},
   "outputs": [],
   "source": [
    "farenheit_array = array_example*9/5+32"
   ]
  },
  {
   "cell_type": "code",
   "execution_count": 10,
   "metadata": {},
   "outputs": [
    {
     "name": "stdout",
     "output_type": "stream",
     "text": [
      "[ 37.4 105.8  39.2  42.8 109.4]\n"
     ]
    }
   ],
   "source": [
    "print(farenheit_array)"
   ]
  },
  {
   "cell_type": "code",
   "execution_count": 11,
   "metadata": {},
   "outputs": [
    {
     "name": "stdout",
     "output_type": "stream",
     "text": [
      "[False  True False False  True]\n"
     ]
    }
   ],
   "source": [
    "print(farenheit_array >= 80)"
   ]
  },
  {
   "cell_type": "code",
   "execution_count": 14,
   "metadata": {},
   "outputs": [
    {
     "name": "stdout",
     "output_type": "stream",
     "text": [
      "[ True  True  True False  True]\n"
     ]
    }
   ],
   "source": [
    "print((farenheit_array >= 80) | (farenheit_array < 40))"
   ]
  },
  {
   "cell_type": "code",
   "execution_count": 15,
   "metadata": {},
   "outputs": [
    {
     "name": "stdout",
     "output_type": "stream",
     "text": [
      "[1 1 0 0 1]\n"
     ]
    }
   ],
   "source": [
    "remainder_array = array_example % 2\n",
    "print(remainder_array)"
   ]
  },
  {
   "cell_type": "code",
   "execution_count": 16,
   "metadata": {},
   "outputs": [
    {
     "name": "stdout",
     "output_type": "stream",
     "text": [
      "[False False  True  True False]\n"
     ]
    }
   ],
   "source": [
    "print(array_example %2 == 0)"
   ]
  },
  {
   "cell_type": "code",
   "execution_count": 17,
   "metadata": {},
   "outputs": [],
   "source": [
    "one_d_array_example = np.array(list_example)"
   ]
  },
  {
   "cell_type": "code",
   "execution_count": 18,
   "metadata": {},
   "outputs": [],
   "source": [
    "list_of_lists = [[0,1,2],[3,4,5],[6,7,8]]"
   ]
  },
  {
   "cell_type": "code",
   "execution_count": 19,
   "metadata": {},
   "outputs": [
    {
     "name": "stdout",
     "output_type": "stream",
     "text": [
      "[[0 1 2]\n",
      " [3 4 5]\n",
      " [6 7 8]]\n"
     ]
    }
   ],
   "source": [
    "two_d_array_example = np.array(list_of_lists)\n",
    "print(two_d_array_example)"
   ]
  },
  {
   "cell_type": "code",
   "execution_count": 21,
   "metadata": {},
   "outputs": [
    {
     "name": "stdout",
     "output_type": "stream",
     "text": [
      "[[0. 0. 0. 0. 0.]\n",
      " [0. 0. 0. 0. 0.]\n",
      " [0. 0. 0. 0. 0.]]\n"
     ]
    }
   ],
   "source": [
    "array_with_zeros = np.zeros((3, 5))\n",
    "print(array_with_zeros)"
   ]
  },
  {
   "cell_type": "raw",
   "metadata": {},
   "source": []
  },
  {
   "cell_type": "code",
   "execution_count": 23,
   "metadata": {},
   "outputs": [
    {
     "name": "stdout",
     "output_type": "stream",
     "text": [
      "[[1 1 1]\n",
      " [1 1 1]\n",
      " [1 1 1]\n",
      " [1 1 1]]\n"
     ]
    }
   ],
   "source": [
    "array_with_ones = np.ones((4, 3), dtype=int)\n",
    "print(array_with_ones)"
   ]
  },
  {
   "cell_type": "code",
   "execution_count": 25,
   "metadata": {},
   "outputs": [
    {
     "name": "stdout",
     "output_type": "stream",
     "text": [
      "[ 3  5  7  9 11 13 15 17 19 21 23 25 27 29 31]\n"
     ]
    }
   ],
   "source": [
    "odd_array = np.arange(3, 32, 2)\n",
    "print(odd_array)"
   ]
  },
  {
   "cell_type": "code",
   "execution_count": 26,
   "metadata": {},
   "outputs": [
    {
     "name": "stdout",
     "output_type": "stream",
     "text": [
      "[[ 3  5  7]\n",
      " [ 9 11 13]\n",
      " [15 17 19]\n",
      " [21 23 25]\n",
      " [27 29 31]]\n"
     ]
    }
   ],
   "source": [
    "odd_array.shape = (5,3)\n",
    "print(odd_array)"
   ]
  },
  {
   "cell_type": "code",
   "execution_count": 33,
   "metadata": {},
   "outputs": [
    {
     "data": {
      "text/plain": [
       "array([ 5, 10, 15, 20, 25, 30, 35, 40, 45, 50])"
      ]
     },
     "execution_count": 33,
     "metadata": {},
     "output_type": "execute_result"
    }
   ],
   "source": [
    "np.linspace(5, 50, num = 10, endpoint=True, dtype=int)"
   ]
  },
  {
   "cell_type": "code",
   "execution_count": 34,
   "metadata": {},
   "outputs": [
    {
     "name": "stdout",
     "output_type": "stream",
     "text": [
      "[[[ 0  1  2  3]\n",
      "  [ 4  5  6  7]\n",
      "  [ 8  9 10 11]\n",
      "  [12 13 14 15]\n",
      "  [16 17 18 19]]\n",
      "\n",
      " [[20 21 22 23]\n",
      "  [24 25 26 27]\n",
      "  [28 29 30 31]\n",
      "  [32 33 34 35]\n",
      "  [36 37 38 39]]]\n"
     ]
    }
   ],
   "source": [
    "three_d_array = np.arange(40)\n",
    "three_d_array.shape = (2, 5, 4)\n",
    "print(three_d_array)"
   ]
  },
  {
   "cell_type": "code",
   "execution_count": 35,
   "metadata": {},
   "outputs": [
    {
     "name": "stdout",
     "output_type": "stream",
     "text": [
      "[  2   4   6   8  10  12  14  16  18  20  22  24  26  28  30  32  34  36\n",
      "  38  40  42  44  46  48  50  52  54  56  58  60  62  64  66  68  70  72\n",
      "  74  76  78  80  82  84  86  88  90  92  94  96  98 100]\n"
     ]
    }
   ],
   "source": [
    "print(np.arange(2, 101, 2))"
   ]
  },
  {
   "cell_type": "code",
   "execution_count": 36,
   "metadata": {},
   "outputs": [
    {
     "name": "stdout",
     "output_type": "stream",
     "text": [
      "[  2   4   6   8  10  12  14  16  18  20  22  24  26  28  30  32  34  36\n",
      "  38  40  42  44  46  48  50  52  54  56  58  60  62  64  66  68  70  72\n",
      "  74  76  78  80  82  84  86  88  90  92  94  96  98 100]\n"
     ]
    }
   ],
   "source": [
    "print(np.linspace(2, 100, num=50, endpoint=True, dtype=int))"
   ]
  },
  {
   "cell_type": "code",
   "execution_count": 37,
   "metadata": {},
   "outputs": [
    {
     "name": "stdout",
     "output_type": "stream",
     "text": [
      "2\n"
     ]
    }
   ],
   "source": [
    "print(odd_array.ndim)"
   ]
  },
  {
   "cell_type": "code",
   "execution_count": 38,
   "metadata": {},
   "outputs": [
    {
     "name": "stdout",
     "output_type": "stream",
     "text": [
      "(5, 3)\n",
      "15\n",
      "int64\n"
     ]
    }
   ],
   "source": [
    "print(odd_array.shape)\n",
    "print(odd_array.size)\n",
    "print(odd_array.dtype)"
   ]
  },
  {
   "cell_type": "code",
   "execution_count": 39,
   "metadata": {},
   "outputs": [
    {
     "name": "stdout",
     "output_type": "stream",
     "text": [
      "2\n"
     ]
    }
   ],
   "source": [
    "print(len(odd_array.shape))"
   ]
  },
  {
   "cell_type": "code",
   "execution_count": 40,
   "metadata": {},
   "outputs": [
    {
     "name": "stdout",
     "output_type": "stream",
     "text": [
      "15\n"
     ]
    }
   ],
   "source": [
    "print(np.prod(odd_array.shape))"
   ]
  },
  {
   "cell_type": "code",
   "execution_count": 41,
   "metadata": {},
   "outputs": [
    {
     "name": "stdout",
     "output_type": "stream",
     "text": [
      "[[ 3  5  7]\n",
      " [ 9 11 13]\n",
      " [15 17 19]\n",
      " [21 23 25]\n",
      " [27 29 31]]\n",
      "255\n"
     ]
    }
   ],
   "source": [
    "print(odd_array)\n",
    "print(odd_array.sum())"
   ]
  },
  {
   "cell_type": "code",
   "execution_count": 42,
   "metadata": {},
   "outputs": [
    {
     "name": "stdout",
     "output_type": "stream",
     "text": [
      "[75 85 95]\n"
     ]
    }
   ],
   "source": [
    "print(odd_array.sum(axis=0))"
   ]
  },
  {
   "cell_type": "code",
   "execution_count": 44,
   "metadata": {},
   "outputs": [
    {
     "name": "stdout",
     "output_type": "stream",
     "text": [
      "[15 33 51 69 87]\n"
     ]
    }
   ],
   "source": [
    "print(odd_array.sum(axis=1))"
   ]
  },
  {
   "cell_type": "code",
   "execution_count": 46,
   "metadata": {},
   "outputs": [
    {
     "name": "stdout",
     "output_type": "stream",
     "text": [
      "97\n"
     ]
    }
   ],
   "source": [
    "print(one_d_array_example.sum())"
   ]
  },
  {
   "cell_type": "code",
   "execution_count": 47,
   "metadata": {},
   "outputs": [
    {
     "name": "stdout",
     "output_type": "stream",
     "text": [
      "97\n"
     ]
    }
   ],
   "source": [
    "print(one_d_array_example.sum(axis=0))"
   ]
  },
  {
   "cell_type": "code",
   "execution_count": 48,
   "metadata": {},
   "outputs": [
    {
     "name": "stdout",
     "output_type": "stream",
     "text": [
      "3\n"
     ]
    }
   ],
   "source": [
    "odd_array_num_columns = odd_array.shape[1]\n",
    "print(odd_array_num_columns)"
   ]
  },
  {
   "cell_type": "code",
   "execution_count": 49,
   "metadata": {},
   "outputs": [
    {
     "name": "stdout",
     "output_type": "stream",
     "text": [
      "[4 4 4 4 4]\n"
     ]
    }
   ],
   "source": [
    "print(odd_array.max(axis=1)-odd_array.min(axis=1))"
   ]
  },
  {
   "cell_type": "code",
   "execution_count": 52,
   "metadata": {},
   "outputs": [
    {
     "name": "stdout",
     "output_type": "stream",
     "text": [
      "[24 24 24]\n"
     ]
    }
   ],
   "source": [
    "print((odd_array.max(axis=0))-(odd_array.min(axis=0)))"
   ]
  },
  {
   "cell_type": "code",
   "execution_count": 53,
   "metadata": {},
   "outputs": [
    {
     "name": "stdout",
     "output_type": "stream",
     "text": [
      "[[1.09861229 1.60943791 1.94591015]\n",
      " [2.19722458 2.39789527 2.56494936]\n",
      " [2.7080502  2.83321334 2.94443898]\n",
      " [3.04452244 3.13549422 3.21887582]\n",
      " [3.29583687 3.36729583 3.4339872 ]]\n"
     ]
    }
   ],
   "source": [
    "log_odd_array = np.log(odd_array)\n",
    "print(log_odd_array)"
   ]
  },
  {
   "cell_type": "code",
   "execution_count": 54,
   "metadata": {},
   "outputs": [],
   "source": [
    "random_array = np.random.rand(12, 6)"
   ]
  },
  {
   "cell_type": "code",
   "execution_count": 55,
   "metadata": {},
   "outputs": [
    {
     "name": "stdout",
     "output_type": "stream",
     "text": [
      "[[0.84818481 0.51037355 0.37428532 0.57858941 0.38419875 0.97480171]\n",
      " [0.58104094 0.14225202 0.59633308 0.75058864 0.18240927 0.92889103]\n",
      " [0.14177508 0.3337997  0.86898655 0.77376029 0.3609023  0.15820487]\n",
      " [0.5400602  0.52434725 0.09985424 0.46303886 0.71163441 0.36549471]\n",
      " [0.80531448 0.1482564  0.99704611 0.53529687 0.96212237 0.13337527]\n",
      " [0.29847001 0.65151039 0.81133595 0.80877087 0.7727192  0.62244315]\n",
      " [0.0305554  0.91783974 0.01062671 0.87535324 0.82644456 0.6488469 ]\n",
      " [0.04261794 0.73526986 0.65064146 0.79269738 0.47356146 0.65101092]\n",
      " [0.08545473 0.50270763 0.79807212 0.82338002 0.37480973 0.02470045]\n",
      " [0.95892041 0.05603929 0.23441853 0.01649116 0.10593145 0.79023771]\n",
      " [0.86272466 0.19377593 0.84819038 0.75188417 0.45668851 0.94149462]\n",
      " [0.05834983 0.95187777 0.84391951 0.7876191  0.42185405 0.09800767]]\n"
     ]
    }
   ],
   "source": [
    "print(random_array)"
   ]
  },
  {
   "cell_type": "code",
   "execution_count": 57,
   "metadata": {},
   "outputs": [
    {
     "name": "stdout",
     "output_type": "stream",
     "text": [
      "[[0.52434725 0.09985424]\n",
      " [0.1482564  0.99704611]]\n"
     ]
    }
   ],
   "source": [
    "print(random_array[3:5, 1:3])"
   ]
  },
  {
   "cell_type": "code",
   "execution_count": 58,
   "metadata": {},
   "outputs": [
    {
     "name": "stdout",
     "output_type": "stream",
     "text": [
      "[[0.84818481 0.51037355 0.37428532 0.57858941 0.38419875]\n",
      " [0.58104094 0.14225202 0.59633308 0.75058864 0.18240927]\n",
      " [0.14177508 0.3337997  0.86898655 0.77376029 0.3609023 ]\n",
      " [0.5400602  0.52434725 0.09985424 0.46303886 0.71163441]\n",
      " [0.80531448 0.1482564  0.99704611 0.53529687 0.96212237]\n",
      " [0.29847001 0.65151039 0.81133595 0.80877087 0.7727192 ]\n",
      " [0.0305554  0.91783974 0.01062671 0.87535324 0.82644456]\n",
      " [0.04261794 0.73526986 0.65064146 0.79269738 0.47356146]\n",
      " [0.08545473 0.50270763 0.79807212 0.82338002 0.37480973]\n",
      " [0.95892041 0.05603929 0.23441853 0.01649116 0.10593145]\n",
      " [0.86272466 0.19377593 0.84819038 0.75188417 0.45668851]\n",
      " [0.05834983 0.95187777 0.84391951 0.7876191  0.42185405]]\n"
     ]
    }
   ],
   "source": [
    "print(random_array[:,:-1])"
   ]
  },
  {
   "cell_type": "code",
   "execution_count": 59,
   "metadata": {},
   "outputs": [
    {
     "name": "stdout",
     "output_type": "stream",
     "text": [
      "[[0.97480171]\n",
      " [0.92889103]\n",
      " [0.15820487]\n",
      " [0.36549471]\n",
      " [0.13337527]\n",
      " [0.62244315]\n",
      " [0.6488469 ]\n",
      " [0.65101092]\n",
      " [0.02470045]\n",
      " [0.79023771]\n",
      " [0.94149462]\n",
      " [0.09800767]]\n"
     ]
    }
   ],
   "source": [
    "print(random_array[:,-1:])"
   ]
  },
  {
   "cell_type": "code",
   "execution_count": 60,
   "metadata": {},
   "outputs": [
    {
     "name": "stdout",
     "output_type": "stream",
     "text": [
      "0.4423760028744994\n"
     ]
    }
   ],
   "source": [
    "print(random_array[3:5, 1:3].mean())"
   ]
  },
  {
   "cell_type": "code",
   "execution_count": 61,
   "metadata": {},
   "outputs": [],
   "source": [
    "three_d_array[1:2, 2:4, :2] = 10"
   ]
  },
  {
   "cell_type": "code",
   "execution_count": 62,
   "metadata": {},
   "outputs": [
    {
     "name": "stdout",
     "output_type": "stream",
     "text": [
      "[[[ 0  1  2  3]\n",
      "  [ 4  5  6  7]\n",
      "  [ 8  9 10 11]\n",
      "  [12 13 14 15]\n",
      "  [16 17 18 19]]\n",
      "\n",
      " [[20 21 22 23]\n",
      "  [24 25 26 27]\n",
      "  [10 10 30 31]\n",
      "  [10 10 34 35]\n",
      "  [36 37 38 39]]]\n"
     ]
    }
   ],
   "source": [
    "print(three_d_array)"
   ]
  },
  {
   "cell_type": "code",
   "execution_count": 63,
   "metadata": {},
   "outputs": [
    {
     "name": "stdout",
     "output_type": "stream",
     "text": [
      "[[[ 0  1  2  3]\n",
      "  [ 4  5  6  7]\n",
      "  [ 8  9 10 11]\n",
      "  [12 13 14 15]\n",
      "  [16 17 18 19]]\n",
      "\n",
      " [[20 21 22 23]\n",
      "  [24 25 26 27]\n",
      "  [ 5  5 30 31]\n",
      "  [ 5  5 34 35]\n",
      "  [36 37 38 39]]]\n"
     ]
    }
   ],
   "source": [
    "three_d_array[1:2, 2:4, :2] = three_d_array[1:2, 2:4, :2]/2\n",
    "print(three_d_array)"
   ]
  },
  {
   "cell_type": "code",
   "execution_count": 64,
   "metadata": {},
   "outputs": [],
   "source": [
    "random_array[3:5, 2:3] = random_array[3:5, 2:3].mean()"
   ]
  },
  {
   "cell_type": "code",
   "execution_count": 65,
   "metadata": {},
   "outputs": [
    {
     "name": "stdout",
     "output_type": "stream",
     "text": [
      "[[ True  True False  True False  True]\n",
      " [ True False  True  True False  True]\n",
      " [False False  True  True False False]\n",
      " [ True  True  True False  True False]\n",
      " [ True False  True  True  True False]\n",
      " [False  True  True  True  True  True]\n",
      " [False  True False  True  True  True]\n",
      " [False  True  True  True False  True]\n",
      " [False  True  True  True False False]\n",
      " [ True False False False False  True]\n",
      " [ True False  True  True False  True]\n",
      " [False  True  True  True False False]]\n"
     ]
    }
   ],
   "source": [
    "bol_array = random_array >= 0.5\n",
    "print(bol_array)"
   ]
  },
  {
   "cell_type": "code",
   "execution_count": 66,
   "metadata": {},
   "outputs": [
    {
     "name": "stdout",
     "output_type": "stream",
     "text": [
      "[0.84818481 0.51037355 0.57858941 0.97480171 0.58104094 0.59633308\n",
      " 0.75058864 0.92889103 0.86898655 0.77376029 0.5400602  0.52434725\n",
      " 0.54845018 0.71163441 0.80531448 0.54845018 0.53529687 0.96212237\n",
      " 0.65151039 0.81133595 0.80877087 0.7727192  0.62244315 0.91783974\n",
      " 0.87535324 0.82644456 0.6488469  0.73526986 0.65064146 0.79269738\n",
      " 0.65101092 0.50270763 0.79807212 0.82338002 0.95892041 0.79023771\n",
      " 0.86272466 0.84819038 0.75188417 0.94149462 0.95187777 0.84391951\n",
      " 0.7876191 ]\n"
     ]
    }
   ],
   "source": [
    "print(random_array[bol_array])"
   ]
  },
  {
   "cell_type": "code",
   "execution_count": 67,
   "metadata": {},
   "outputs": [
    {
     "name": "stdout",
     "output_type": "stream",
     "text": [
      "[0.84818481 0.51037355 0.57858941 0.97480171 0.58104094 0.59633308\n",
      " 0.75058864 0.92889103 0.86898655 0.77376029 0.5400602  0.52434725\n",
      " 0.54845018 0.71163441 0.80531448 0.54845018 0.53529687 0.96212237\n",
      " 0.65151039 0.81133595 0.80877087 0.7727192  0.62244315 0.91783974\n",
      " 0.87535324 0.82644456 0.6488469  0.73526986 0.65064146 0.79269738\n",
      " 0.65101092 0.50270763 0.79807212 0.82338002 0.95892041 0.79023771\n",
      " 0.86272466 0.84819038 0.75188417 0.94149462 0.95187777 0.84391951\n",
      " 0.7876191 ]\n"
     ]
    }
   ],
   "source": [
    "print(random_array[random_array >= 0.5])"
   ]
  },
  {
   "cell_type": "code",
   "execution_count": 68,
   "metadata": {},
   "outputs": [
    {
     "name": "stdout",
     "output_type": "stream",
     "text": [
      "0.5027076317161814\n"
     ]
    }
   ],
   "source": [
    "print(random_array[bol_array].min())"
   ]
  },
  {
   "cell_type": "code",
   "execution_count": 69,
   "metadata": {},
   "outputs": [],
   "source": [
    "random_array[random_array > np.percentile(random_array, 90)] = np.percentile(random_array, 90)"
   ]
  },
  {
   "cell_type": "code",
   "execution_count": 70,
   "metadata": {},
   "outputs": [
    {
     "name": "stdout",
     "output_type": "stream",
     "text": [
      "[[0.84818481 0.51037355 0.37428532 0.57858941 0.38419875 0.87471657]\n",
      " [0.58104094 0.14225202 0.59633308 0.75058864 0.18240927 0.87471657]\n",
      " [0.14177508 0.3337997  0.86898655 0.77376029 0.3609023  0.15820487]\n",
      " [0.5400602  0.52434725 0.54845018 0.46303886 0.71163441 0.36549471]\n",
      " [0.80531448 0.1482564  0.54845018 0.53529687 0.87471657 0.13337527]\n",
      " [0.29847001 0.65151039 0.81133595 0.80877087 0.7727192  0.62244315]\n",
      " [0.0305554  0.87471657 0.01062671 0.87471657 0.82644456 0.6488469 ]\n",
      " [0.04261794 0.73526986 0.65064146 0.79269738 0.47356146 0.65101092]\n",
      " [0.08545473 0.50270763 0.79807212 0.82338002 0.37480973 0.02470045]\n",
      " [0.87471657 0.05603929 0.23441853 0.01649116 0.10593145 0.79023771]\n",
      " [0.86272466 0.19377593 0.84819038 0.75188417 0.45668851 0.87471657]\n",
      " [0.05834983 0.87471657 0.84391951 0.7876191  0.42185405 0.09800767]]\n"
     ]
    }
   ],
   "source": [
    "print(random_array)"
   ]
  },
  {
   "cell_type": "code",
   "execution_count": 71,
   "metadata": {},
   "outputs": [],
   "source": [
    "random_array_two = np.random.rand(12,6)\n",
    "random_array_two_copy = random_array_two"
   ]
  },
  {
   "cell_type": "code",
   "execution_count": 72,
   "metadata": {},
   "outputs": [],
   "source": [
    "random_array_two = np.where(random_array_two >= random_array_two.mean(), 1, 0)"
   ]
  },
  {
   "cell_type": "code",
   "execution_count": 73,
   "metadata": {},
   "outputs": [
    {
     "name": "stdout",
     "output_type": "stream",
     "text": [
      "[[0 0 1 1 0 1]\n",
      " [1 1 0 0 1 1]\n",
      " [0 1 0 0 0 1]\n",
      " [1 0 1 0 0 1]\n",
      " [0 1 0 0 1 0]\n",
      " [1 1 0 0 0 0]\n",
      " [1 1 1 1 0 0]\n",
      " [0 0 0 1 0 0]\n",
      " [1 0 1 0 0 1]\n",
      " [1 1 1 0 0 1]\n",
      " [1 1 0 1 0 1]\n",
      " [0 1 1 1 1 1]]\n"
     ]
    }
   ],
   "source": [
    "print(random_array_two)"
   ]
  },
  {
   "cell_type": "code",
   "execution_count": 74,
   "metadata": {},
   "outputs": [
    {
     "name": "stdout",
     "output_type": "stream",
     "text": [
      "[[0 0 1 1 0 1]\n",
      " [1 1 0 0 1 1]\n",
      " [0 1 0 0 0 1]\n",
      " [1 0 1 0 0 1]\n",
      " [0 1 0 0 1 0]\n",
      " [1 1 0 0 0 0]\n",
      " [1 1 1 1 0 0]\n",
      " [0 0 0 1 0 0]\n",
      " [1 0 1 0 0 1]\n",
      " [1 1 1 0 0 1]\n",
      " [1 1 0 1 0 1]\n",
      " [0 1 1 1 1 1]]\n"
     ]
    }
   ],
   "source": [
    "random_array_two_copy[random_array_two_copy >= random_array_two_copy.mean()] = 1\n",
    "random_array_two_copy[random_array_two_copy < random_array_two_copy.mean()] = 0\n",
    "random_array_two_copy = random_array_two_copy.astype(int)\n",
    "print(random_array_two_copy)"
   ]
  },
  {
   "cell_type": "code",
   "execution_count": 75,
   "metadata": {},
   "outputs": [],
   "source": [
    "random_array_three = np.random.rand(12,6)"
   ]
  },
  {
   "cell_type": "code",
   "execution_count": 76,
   "metadata": {},
   "outputs": [
    {
     "name": "stdout",
     "output_type": "stream",
     "text": [
      "[[0.36712927 0.27809992 0.48559744 0.85224441 0.84476096 0.40651622]\n",
      " [0.38477517 0.24835006 0.85224441 0.33685779 0.40250036 0.63494204]\n",
      " [0.19417174 0.72969251 0.19329535 0.56467035 0.79107249 0.69120006]\n",
      " [0.24575724 0.19329535 0.19329535 0.77387908 0.37132474 0.80487227]\n",
      " [0.49302621 0.85224441 0.6626415  0.5302688  0.77851545 0.7951708 ]\n",
      " [0.19329535 0.85224441 0.63473081 0.40709364 0.54214508 0.78020113]\n",
      " [0.60292399 0.66803221 0.27129451 0.19329535 0.57965819 0.85224441]\n",
      " [0.72768734 0.37787047 0.85224441 0.52128683 0.39569162 0.42964451]\n",
      " [0.49942324 0.4876123  0.33355039 0.82043419 0.62603675 0.85224441]\n",
      " [0.52701267 0.58407452 0.32415525 0.56527129 0.38317399 0.82469419]\n",
      " [0.26842298 0.19329535 0.39535558 0.58949328 0.61365943 0.19329535]\n",
      " [0.56575768 0.72896392 0.20034508 0.19329535 0.56493677 0.85224441]]\n"
     ]
    }
   ],
   "source": [
    "random_array_three = np.where(random_array_three >= np.percentile(random_array_three, 90), np.percentile(random_array_three, 90), np.where(random_array_three <= np.percentile(random_array_three, 10), np.percentile(random_array_three, 10), random_array_three))\n",
    "print(random_array_three)"
   ]
  },
  {
   "cell_type": "code",
   "execution_count": 77,
   "metadata": {},
   "outputs": [],
   "source": [
    "student_course_scores = [85,90,75,83,68]\n",
    "\n",
    "student_course_grades = []"
   ]
  },
  {
   "cell_type": "code",
   "execution_count": null,
   "metadata": {},
   "outputs": [],
   "source": []
  }
 ],
 "metadata": {
  "kernelspec": {
   "display_name": "Python 3",
   "language": "python",
   "name": "python3"
  },
  "language_info": {
   "codemirror_mode": {
    "name": "ipython",
    "version": 3
   },
   "file_extension": ".py",
   "mimetype": "text/x-python",
   "name": "python",
   "nbconvert_exporter": "python",
   "pygments_lexer": "ipython3",
   "version": "3.7.4"
  }
 },
 "nbformat": 4,
 "nbformat_minor": 2
}
